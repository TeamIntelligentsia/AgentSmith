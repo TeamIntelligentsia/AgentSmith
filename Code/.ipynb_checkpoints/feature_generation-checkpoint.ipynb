{
 "cells": [
  {
   "cell_type": "code",
   "execution_count": 1,
   "metadata": {
    "collapsed": false
   },
   "outputs": [
    {
     "name": "stderr",
     "output_type": "stream",
     "text": [
      "C:\\Users\\Ahuja\\Anaconda\\lib\\site-packages\\pandas\\io\\parsers.py:1159: DtypeWarning: Columns (19) have mixed types. Specify dtype option on import or set low_memory=False.\n",
      "  data = self._reader.read(nrows)\n"
     ]
    }
   ],
   "source": [
    "#Notebook for Feature generation\n",
    "\n",
    "#Step 1 ; Do everthying we did before\n",
    "import pandas as pd\n",
    "import numpy as np\n",
    "import matplotlib.pyplot as plt\n",
    "%matplotlib inline\n",
    "\n",
    "#Step 1 Load data\n",
    "df = pd.read_csv(\"/Users/Ahuja/Documents/DSSG/data-challenges/BuildingInspections/data/Building_Violations_sample_50000.csv\")\n",
    "\n",
    "del df['Unnamed: 0']\n",
    "df.dtypes\n",
    "\n",
    "import re\n",
    "\n",
    "def spaces_to_snake(column_name):\n",
    "    s = re.sub(r\"\\s+\", '_',column_name)\n",
    "    return s.lower()\n",
    "\n",
    "df.columns = [spaces_to_snake(col) for col in df.columns]\n",
    "\n",
    "#Converting Dates to date\n",
    "df.violation_date = pd.to_datetime(df.violation_date)\n",
    "df.violation_status_date = pd.to_datetime(df.violation_status_date)"
   ]
  },
  {
   "cell_type": "code",
   "execution_count": 19,
   "metadata": {
    "collapsed": false
   },
   "outputs": [],
   "source": [
    "#Cumulative Violations for a building\n",
    "failed_buildings = df[df['inspection_status'] == \"FAILED\"]\n",
    "violation_count_cum = failed_buildings[['id','location','inspection_status']].groupby(['location','inspection_status']).count()"
   ]
  },
  {
   "cell_type": "code",
   "execution_count": 21,
   "metadata": {
    "collapsed": false
   },
   "outputs": [],
   "source": [
    "violation_count_cum = violation_count_cum.unstack()"
   ]
  },
  {
   "cell_type": "code",
   "execution_count": 23,
   "metadata": {
    "collapsed": false
   },
   "outputs": [
    {
     "data": {
      "text/plain": [
       "    inspection_status  location                               \n",
       "id  FAILED             (41.64692911211202,-87.61447966111751)     1\n",
       "                       (41.647795874157346,-87.54018148507018)    2\n",
       "                       (41.64781346219875,-87.61421661741555)     1\n",
       "                       (41.6478148942479,-87.61645925569275)      1\n",
       "                       (41.648032636313566,-87.61392876189757)    2\n",
       "dtype: int64"
      ]
     },
     "execution_count": 23,
     "metadata": {},
     "output_type": "execute_result"
    }
   ],
   "source": [
    "violation_count_cum.head()"
   ]
  },
  {
   "cell_type": "code",
   "execution_count": null,
   "metadata": {
    "collapsed": true
   },
   "outputs": [],
   "source": []
  }
 ],
 "metadata": {
  "kernelspec": {
   "display_name": "Python 2",
   "language": "python",
   "name": "python2"
  },
  "language_info": {
   "codemirror_mode": {
    "name": "ipython",
    "version": 2
   },
   "file_extension": ".py",
   "mimetype": "text/x-python",
   "name": "python",
   "nbconvert_exporter": "python",
   "pygments_lexer": "ipython2",
   "version": "2.7.9"
  }
 },
 "nbformat": 4,
 "nbformat_minor": 0
}
