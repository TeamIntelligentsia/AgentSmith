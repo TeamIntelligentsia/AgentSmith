{
 "cells": [
  {
   "cell_type": "code",
   "execution_count": 163,
   "metadata": {
    "collapsed": true
   },
   "outputs": [],
   "source": [
    "import pandas as pd\n",
    "import numpy as np\n",
    "import pylab as pl\n",
    "import matplotlib.pyplot as plot\n",
    "%matplotlib inline"
   ]
  },
  {
   "cell_type": "code",
   "execution_count": 164,
   "metadata": {
    "collapsed": false
   },
   "outputs": [],
   "source": [
    "#Help check accuracy of predictions to actual data\n",
    "import sklearn.metrics as metrics\n",
    "from sklearn.naive_bayes import GaussianNB\n",
    "from sklearn.linear_model import LogisticRegression\n",
    "from sklearn.ensemble import RandomForestClassifier\n",
    "from sklearn.svm import LinearSVC\n"
   ]
  },
  {
   "cell_type": "code",
   "execution_count": 165,
   "metadata": {
    "collapsed": false
   },
   "outputs": [],
   "source": [
    "data = pd.read_csv(\"../../data-challenges/BuildingInspections/data/Building_Violations_50000_features_and_labels.csv\")\n",
    "del data['Unnamed: 0']\n",
    "del data['unnamed:_0']"
   ]
  },
  {
   "cell_type": "code",
   "execution_count": 166,
   "metadata": {
    "collapsed": false
   },
   "outputs": [
    {
     "data": {
      "text/html": [
       "<div style=\"max-height:1000px;max-width:1500px;overflow:auto;\">\n",
       "<table border=\"1\" class=\"dataframe\">\n",
       "  <thead>\n",
       "    <tr style=\"text-align: right;\">\n",
       "      <th></th>\n",
       "      <th>id</th>\n",
       "      <th>violation_last_modified_date</th>\n",
       "      <th>violation_date</th>\n",
       "      <th>violation_code</th>\n",
       "      <th>violation_status</th>\n",
       "      <th>violation_status_date</th>\n",
       "      <th>violation_description</th>\n",
       "      <th>violation_location</th>\n",
       "      <th>violation_inspector_comments</th>\n",
       "      <th>violation_ordinance</th>\n",
       "      <th>...</th>\n",
       "      <th>plumbing</th>\n",
       "      <th>refrigeration</th>\n",
       "      <th>signs</th>\n",
       "      <th>special_inspection_program</th>\n",
       "      <th>special_task_force</th>\n",
       "      <th>ventilation</th>\n",
       "      <th>water</th>\n",
       "      <th>complied</th>\n",
       "      <th>no_entry</th>\n",
       "      <th>open</th>\n",
       "    </tr>\n",
       "  </thead>\n",
       "  <tbody>\n",
       "    <tr>\n",
       "      <th>0</th>\n",
       "      <td> 5063843</td>\n",
       "      <td> 05/21/2015</td>\n",
       "      <td>2015-05-21</td>\n",
       "      <td> CN065014</td>\n",
       "      <td> OPEN</td>\n",
       "      <td> NaN</td>\n",
       "      <td>                 REPAIR LINTELS</td>\n",
       "      <td>                OTHER   :    :</td>\n",
       "      <td>                                  LINTELS; RUSTED.</td>\n",
       "      <td> Failed to maintain lintel in good repair and f...</td>\n",
       "      <td>...</td>\n",
       "      <td> 0</td>\n",
       "      <td> 0</td>\n",
       "      <td> 0</td>\n",
       "      <td> 0</td>\n",
       "      <td> 0</td>\n",
       "      <td> 0</td>\n",
       "      <td> 0</td>\n",
       "      <td> 0</td>\n",
       "      <td> 0</td>\n",
       "      <td> 1</td>\n",
       "    </tr>\n",
       "    <tr>\n",
       "      <th>1</th>\n",
       "      <td> 5063990</td>\n",
       "      <td> 05/21/2015</td>\n",
       "      <td>2015-05-21</td>\n",
       "      <td> CN044013</td>\n",
       "      <td> OPEN</td>\n",
       "      <td> NaN</td>\n",
       "      <td> PIPE OPENING W/NONCOMBUST MATL</td>\n",
       "      <td> OTHER   :    :MULTIPLE FLOORS</td>\n",
       "      <td> OPENINGS AROUND PIPES, SEAL WITH APPROVED MATE...</td>\n",
       "      <td> Failed to fill openings around exposed pipes o...</td>\n",
       "      <td>...</td>\n",
       "      <td> 0</td>\n",
       "      <td> 0</td>\n",
       "      <td> 0</td>\n",
       "      <td> 0</td>\n",
       "      <td> 0</td>\n",
       "      <td> 0</td>\n",
       "      <td> 0</td>\n",
       "      <td> 0</td>\n",
       "      <td> 0</td>\n",
       "      <td> 1</td>\n",
       "    </tr>\n",
       "    <tr>\n",
       "      <th>2</th>\n",
       "      <td> 5064022</td>\n",
       "      <td> 05/21/2015</td>\n",
       "      <td>2015-05-21</td>\n",
       "      <td> CN104035</td>\n",
       "      <td> OPEN</td>\n",
       "      <td> NaN</td>\n",
       "      <td>                MAINTAIN WINDOW</td>\n",
       "      <td>                OTHER   :    :</td>\n",
       "      <td> ALL ELEVATIONS , WOOD WINDOW FRAMES  AND NORTH...</td>\n",
       "      <td> Failed to maintain windows in sound condition ...</td>\n",
       "      <td>...</td>\n",
       "      <td> 0</td>\n",
       "      <td> 0</td>\n",
       "      <td> 0</td>\n",
       "      <td> 0</td>\n",
       "      <td> 0</td>\n",
       "      <td> 0</td>\n",
       "      <td> 0</td>\n",
       "      <td> 0</td>\n",
       "      <td> 0</td>\n",
       "      <td> 1</td>\n",
       "    </tr>\n",
       "    <tr>\n",
       "      <th>3</th>\n",
       "      <td> 5064019</td>\n",
       "      <td> 05/21/2015</td>\n",
       "      <td>2015-05-21</td>\n",
       "      <td> CN196029</td>\n",
       "      <td> OPEN</td>\n",
       "      <td> NaN</td>\n",
       "      <td>     POST OWNER/MANAGERS NAME/#</td>\n",
       "      <td>                OTHER   :    :</td>\n",
       "      <td>          BUILDING - NO OWNER'S I.D. SIGN POSTED .</td>\n",
       "      <td> Post name, address, and telephone of owner, ow...</td>\n",
       "      <td>...</td>\n",
       "      <td> 0</td>\n",
       "      <td> 0</td>\n",
       "      <td> 0</td>\n",
       "      <td> 0</td>\n",
       "      <td> 0</td>\n",
       "      <td> 0</td>\n",
       "      <td> 0</td>\n",
       "      <td> 0</td>\n",
       "      <td> 0</td>\n",
       "      <td> 1</td>\n",
       "    </tr>\n",
       "    <tr>\n",
       "      <th>4</th>\n",
       "      <td> 5064139</td>\n",
       "      <td> 05/21/2015</td>\n",
       "      <td>2015-05-21</td>\n",
       "      <td> CN104015</td>\n",
       "      <td> OPEN</td>\n",
       "      <td> NaN</td>\n",
       "      <td>  REPLCE WINDOW PANES, PLEXGLAS</td>\n",
       "      <td>                OTHER   :    :</td>\n",
       "      <td> NORTH ELEVATION / 1ST FLOOR - BROKEN WINDOW PANE.</td>\n",
       "      <td> Replace broken, missing or defective window pa...</td>\n",
       "      <td>...</td>\n",
       "      <td> 0</td>\n",
       "      <td> 0</td>\n",
       "      <td> 0</td>\n",
       "      <td> 0</td>\n",
       "      <td> 0</td>\n",
       "      <td> 0</td>\n",
       "      <td> 0</td>\n",
       "      <td> 0</td>\n",
       "      <td> 0</td>\n",
       "      <td> 1</td>\n",
       "    </tr>\n",
       "  </tbody>\n",
       "</table>\n",
       "<p>5 rows × 46 columns</p>\n",
       "</div>"
      ],
      "text/plain": [
       "        id violation_last_modified_date violation_date violation_code  \\\n",
       "0  5063843                   05/21/2015     2015-05-21       CN065014   \n",
       "1  5063990                   05/21/2015     2015-05-21       CN044013   \n",
       "2  5064022                   05/21/2015     2015-05-21       CN104035   \n",
       "3  5064019                   05/21/2015     2015-05-21       CN196029   \n",
       "4  5064139                   05/21/2015     2015-05-21       CN104015   \n",
       "\n",
       "  violation_status violation_status_date           violation_description  \\\n",
       "0             OPEN                   NaN                  REPAIR LINTELS   \n",
       "1             OPEN                   NaN  PIPE OPENING W/NONCOMBUST MATL   \n",
       "2             OPEN                   NaN                 MAINTAIN WINDOW   \n",
       "3             OPEN                   NaN      POST OWNER/MANAGERS NAME/#   \n",
       "4             OPEN                   NaN   REPLCE WINDOW PANES, PLEXGLAS   \n",
       "\n",
       "              violation_location  \\\n",
       "0                 OTHER   :    :   \n",
       "1  OTHER   :    :MULTIPLE FLOORS   \n",
       "2                 OTHER   :    :   \n",
       "3                 OTHER   :    :   \n",
       "4                 OTHER   :    :   \n",
       "\n",
       "                        violation_inspector_comments  \\\n",
       "0                                   LINTELS; RUSTED.   \n",
       "1  OPENINGS AROUND PIPES, SEAL WITH APPROVED MATE...   \n",
       "2  ALL ELEVATIONS , WOOD WINDOW FRAMES  AND NORTH...   \n",
       "3           BUILDING - NO OWNER'S I.D. SIGN POSTED .   \n",
       "4  NORTH ELEVATION / 1ST FLOOR - BROKEN WINDOW PANE.   \n",
       "\n",
       "                                 violation_ordinance  ...  plumbing  \\\n",
       "0  Failed to maintain lintel in good repair and f...  ...         0   \n",
       "1  Failed to fill openings around exposed pipes o...  ...         0   \n",
       "2  Failed to maintain windows in sound condition ...  ...         0   \n",
       "3  Post name, address, and telephone of owner, ow...  ...         0   \n",
       "4  Replace broken, missing or defective window pa...  ...         0   \n",
       "\n",
       "   refrigeration signs special_inspection_program special_task_force  \\\n",
       "0              0     0                          0                  0   \n",
       "1              0     0                          0                  0   \n",
       "2              0     0                          0                  0   \n",
       "3              0     0                          0                  0   \n",
       "4              0     0                          0                  0   \n",
       "\n",
       "  ventilation water  complied no_entry  open  \n",
       "0           0     0         0        0     1  \n",
       "1           0     0         0        0     1  \n",
       "2           0     0         0        0     1  \n",
       "3           0     0         0        0     1  \n",
       "4           0     0         0        0     1  \n",
       "\n",
       "[5 rows x 46 columns]"
      ]
     },
     "execution_count": 166,
     "metadata": {},
     "output_type": "execute_result"
    }
   ],
   "source": [
    "#Converting violation date from object to DateTime\n",
    "data.violation_date=pd.to_datetime(data.violation_date)\n",
    "data.head()"
   ]
  },
  {
   "cell_type": "markdown",
   "metadata": {},
   "source": [
    "## Exploring the data, Again."
   ]
  },
  {
   "cell_type": "code",
   "execution_count": 167,
   "metadata": {
    "collapsed": false
   },
   "outputs": [
    {
     "data": {
      "text/plain": [
       "inspection_status\n",
       "FAILED               38371\n",
       "PASSED                6426\n",
       "Name: id, dtype: int64"
      ]
     },
     "execution_count": 167,
     "metadata": {},
     "output_type": "execute_result"
    }
   ],
   "source": [
    "data.groupby(\"inspection_status\").count()[\"id\"]"
   ]
  },
  {
   "cell_type": "markdown",
   "metadata": {},
   "source": [
    "## Splitting the Data"
   ]
  },
  {
   "cell_type": "code",
   "execution_count": 168,
   "metadata": {
    "collapsed": false
   },
   "outputs": [],
   "source": [
    "#Creating the validation set. From 2015 to Now\n",
    "validation_set = data[data.violation_date >= '2015']"
   ]
  },
  {
   "cell_type": "code",
   "execution_count": 169,
   "metadata": {
    "collapsed": false
   },
   "outputs": [],
   "source": [
    "#Creating Test and Training splits\n",
    "# Put for loop here later #TODO = Replace years with index variables\n",
    "train_1 = data[(data.violation_date >= '2006') & (data.violation_date < '2007')]\n",
    "test_1 = data[(data.violation_date >= '2007') & (data.violation_date <= '2007-06')]"
   ]
  },
  {
   "cell_type": "markdown",
   "metadata": {},
   "source": [
    "## Model fitting and prediction"
   ]
  },
  {
   "cell_type": "code",
   "execution_count": 170,
   "metadata": {
    "collapsed": false
   },
   "outputs": [],
   "source": [
    "lr = LogisticRegression()\n",
    "gnb = GaussianNB()\n",
    "svc = LinearSVC(C=1.0)\n",
    "rfc = RandomForestClassifier(n_estimators=100)\n",
    "\n",
    "features=['property_group','boiler','electrical','elevator','water',\n",
    "          'iron','new_construction','plumbing','refrigeration', 'demolition']"
   ]
  },
  {
   "cell_type": "code",
   "execution_count": 171,
   "metadata": {
    "collapsed": false
   },
   "outputs": [
    {
     "data": {
      "text/plain": [
       "RandomForestClassifier(bootstrap=True, compute_importances=None,\n",
       "            criterion='gini', max_depth=None, max_features='auto',\n",
       "            max_leaf_nodes=None, min_density=None, min_samples_leaf=1,\n",
       "            min_samples_split=2, n_estimators=100, n_jobs=1,\n",
       "            oob_score=False, random_state=None, verbose=0)"
      ]
     },
     "execution_count": 171,
     "metadata": {},
     "output_type": "execute_result"
    }
   ],
   "source": [
    "lr.fit(train_1[features],train_1['inspection_status'])\n",
    "gnb.fit(train_1[features],train_1['inspection_status'])\n",
    "svc.fit(train_1[features],train_1['inspection_status'])\n",
    "rfc.fit(train_1[features],train_1['inspection_status'])"
   ]
  },
  {
   "cell_type": "code",
   "execution_count": 172,
   "metadata": {
    "collapsed": false
   },
   "outputs": [],
   "source": [
    "predicted_lr = lr.predict(test_1[features])\n",
    "predicted_gnb = gnb.predict(test_1[features])\n",
    "predicted_svc = svc.predict(test_1[features])\n",
    "predicted_rfc = rfc.predict(test_1[features])\n",
    "probability = lr.predict_proba(test_1[features])"
   ]
  },
  {
   "cell_type": "code",
   "execution_count": 173,
   "metadata": {
    "collapsed": false
   },
   "outputs": [
    {
     "data": {
      "text/plain": [
       "0.82386117136659431"
      ]
     },
     "execution_count": 173,
     "metadata": {},
     "output_type": "execute_result"
    }
   ],
   "source": [
    "accuracy(test_1['inspection_status'],predicted_lr)"
   ]
  },
  {
   "cell_type": "code",
   "execution_count": 174,
   "metadata": {
    "collapsed": false
   },
   "outputs": [
    {
     "data": {
      "text/plain": [
       "0.25162689804772237"
      ]
     },
     "execution_count": 174,
     "metadata": {},
     "output_type": "execute_result"
    }
   ],
   "source": [
    "accuracy(test_1['inspection_status'],predicted_gnb)"
   ]
  },
  {
   "cell_type": "code",
   "execution_count": 175,
   "metadata": {
    "collapsed": false
   },
   "outputs": [
    {
     "data": {
      "text/plain": [
       "0.82386117136659431"
      ]
     },
     "execution_count": 175,
     "metadata": {},
     "output_type": "execute_result"
    }
   ],
   "source": [
    "accuracy(test_1['inspection_status'],predicted_svc)"
   ]
  },
  {
   "cell_type": "code",
   "execution_count": 176,
   "metadata": {
    "collapsed": false
   },
   "outputs": [
    {
     "data": {
      "text/plain": [
       "0.76876355748373104"
      ]
     },
     "execution_count": 176,
     "metadata": {},
     "output_type": "execute_result"
    }
   ],
   "source": [
    "accuracy(test_1['inspection_status'],predicted_rfc)"
   ]
  },
  {
   "cell_type": "code",
   "execution_count": 177,
   "metadata": {
    "collapsed": false
   },
   "outputs": [
    {
     "data": {
      "text/plain": [
       "[<matplotlib.lines.Line2D at 0x22015400>]"
      ]
     },
     "execution_count": 177,
     "metadata": {},
     "output_type": "execute_result"
    },
    {
     "data": {
      "image/png": "[encoded data removed]",
      "text/plain": [
       "<matplotlib.figure.Figure at 0x2866f780>"
      ]
     },
     "metadata": {},
     "output_type": "display_data"
    }
   ],
   "source": [
    "plot.plot(probability[:,0])"
   ]
  },
  {
   "cell_type": "code",
   "execution_count": null,
   "metadata": {
    "collapsed": true
   },
   "outputs": [],
   "source": []
  }
 ],
 "metadata": {
  "kernelspec": {
   "display_name": "Python 2",
   "language": "python",
   "name": "python2"
  },
  "language_info": {
   "codemirror_mode": {
    "name": "ipython",
    "version": 2
   },
   "file_extension": ".py",
   "mimetype": "text/x-python",
   "name": "python",
   "nbconvert_exporter": "python",
   "pygments_lexer": "ipython2",
   "version": "2.7.9"
  }
 },
 "nbformat": 4,
 "nbformat_minor": 0
}
